{
  "nbformat": 4,
  "nbformat_minor": 0,
  "metadata": {
    "colab": {
      "name": "DeepLearningTP1.ipynb",
      "provenance": [],
      "collapsed_sections": []
    },
    "kernelspec": {
      "name": "python3",
      "display_name": "Python 3"
    },
    "accelerator": "GPU"
  },
  "cells": [
    {
      "cell_type": "markdown",
      "metadata": {
        "id": "JTM8xk1uZr1t",
        "colab_type": "text"
      },
      "source": [
        "# Deep Learning - Diplomatura en ciencias de datos\n",
        "## UNC - FaMAF\n",
        "## Práctico n°1 \n",
        "\n",
        "__Integrantes:__\n",
        "* Nindirí Armenta\n",
        "* Leonardo Latini\n",
        "* Juliana Benítez\n",
        "* Florencia Alonso\n",
        "\n",
        "__Consigna:__ Se trabajará con el conjuto de datos de petfinder. La tarea es predecir la velocidad de adopción de un conjunto de mascotas. Para ello, también se dispone de [esta competencia de Kaggle](https://www.kaggle.com/t/8842af91604944a9974bd6d5a3e097c5). Se trata de una tarea de __clasificación.__\n",
        "\n",
        "_Más información del dataset:_\n",
        "\n",
        "File descriptions\n",
        "\n",
        "* train.csv - Tabular/text data for the training set\n",
        "* test.csv - Tabular/text data for the test set\n",
        "* sample_submission.csv - A sample submission file in the correct format\n",
        "* breed_labels.csv - Contains Type, and BreedName for each BreedID. Type 1 is dog, 2 is cat.\n",
        "* color_labels.csv - Contains ColorName for each ColorID\n",
        "* state_labels.csv - Contains StateName for each StateID\n",
        "\n",
        "Data Fields\n",
        "\n",
        "* PetID - Unique hash ID of pet profile\n",
        "* AdoptionSpeed - Categorical speed of adoption. \n",
        "* Type - Type of animal (1 = Dog, 2 = Cat)\n",
        "* Name - Name of pet (Empty if not named)\n",
        "* Age - Age of pet when listed, in months\n",
        "* Breed1 - Primary breed of pet (Refer to BreedLabels dictionary)\n",
        "* Breed2 - Secondary breed of pet, if pet is of mixed breed (Refer to BreedLabels dictionary)\n",
        "* Gender - Gender of pet (1 = Male, 2 = Female, 3 = Mixed, if profile represents group of pets)\n",
        "* Color1 - Color 1 of pet (Refer to ColorLabels dictionary)\n",
        "* Color2 - Color 2 of pet (Refer to ColorLabels dictionary)\n",
        "* Color3 - Color 3 of pet (Refer to ColorLabels dictionary)\n",
        "* MaturitySize - Size at maturity (1 = Small, 2 = Medium, 3 = Large, 4 = Extra Large, 0 = Not Specified)\n",
        "* FurLength - Fur length (1 = Short, 2 = Medium, 3 = Long, 0 = Not Specified)\n",
        "* Vaccinated - Pet has been vaccinated (1 = Yes, 2 = No, 3 = Not Sure)\n",
        "* Dewormed - Pet has been dewormed (1 = Yes, 2 = No, 3 = Not Sure)\n",
        "* Sterilized - Pet has been spayed / neutered (1 = Yes, 2 = No, 3 = Not Sure)\n",
        "* Health - Health Condition (1 = Healthy, 2 = Minor Injury, 3 = Serious Injury, 0 = Not Specified)\n",
        "* Quantity - Number of pets represented in profile\n",
        "* Fee - Adoption fee (0 = Free)\n",
        "* State - State location in Malaysia (Refer to StateLabels dictionary)\n",
        "\n",
        "AdoptionSpeed\n",
        "\n",
        "* 0 - Pet was adopted on the same day as it was listed.\n",
        "* 1 - Pet was adopted between 1 and 7 days (1st week) after being listed.\n",
        "* 2 - Pet was adopted between 8 and 30 days (1st month) after being listed.\n",
        "* 3 - Pet was adopted between 31 and 90 days (2nd & 3rd month) after being listed.\n",
        "* 4 - No adoption after 100 days of being listed. (There are no pets in this dataset that waited between 90 and 100 days).\n",
        "\n",
        "## Ejercicio 1\n",
        "\n",
        "1. Construir un pipeline de clasificación con un modelo Keras MLP. Pueden comenzar con una versión simplicada que sólo tenga una capa de Input donde pasen los valores de las columnas de *one-hot-encodings*.\n",
        "\n",
        "2. Entrenar uno o varios modelos (con dos o tres es suficiente, veremos más de esto en el práctico 2). Evaluar los modelos en el conjunto de dev y test.\n",
        "\n",
        "## Ejercicio 2\n",
        "\n",
        "1. Utilizar el mismo modelo anterior y explorar cómo cambian los resultados a medida que agregamos o quitamos columnas.\n",
        "\n",
        "2. Volver a ejecutar una exploración de hyperparámetros teniendo en cuenta la información que agregan las nuevas columnas.\n",
        "\n",
        "4. Subir los resultados a la competencia de Kaggle.\n"
      ]
    },
    {
      "cell_type": "code",
      "metadata": {
        "id": "bd7KoNQ0WweW",
        "colab_type": "code",
        "colab": {}
      },
      "source": [
        "#!pip install mlflow\n",
        "import mlflow"
      ],
      "execution_count": 0,
      "outputs": []
    },
    {
      "cell_type": "code",
      "metadata": {
        "id": "ynQo9vdksqgk",
        "colab_type": "code",
        "colab": {}
      },
      "source": [
        "import os\n",
        "import numpy\n",
        "import pandas\n",
        "import seaborn\n",
        "seaborn.set_style('whitegrid')\n",
        "seaborn.set_palette('colorblind')\n",
        "seaborn.set_context('paper')"
      ],
      "execution_count": 0,
      "outputs": []
    },
    {
      "cell_type": "code",
      "metadata": {
        "id": "QUyHTFxis-pD",
        "colab_type": "code",
        "outputId": "ec2cf63a-15cc-4bfe-ab24-b115fe13f4b5",
        "colab": {
          "base_uri": "https://localhost:8080/",
          "height": 34
        }
      },
      "source": [
        "from google.colab import drive\n",
        "drive.mount('/content/drive')"
      ],
      "execution_count": 41,
      "outputs": [
        {
          "output_type": "stream",
          "text": [
            "Drive already mounted at /content/drive; to attempt to forcibly remount, call drive.mount(\"/content/drive\", force_remount=True).\n"
          ],
          "name": "stdout"
        }
      ]
    },
    {
      "cell_type": "code",
      "metadata": {
        "id": "evNw-5JwtQjz",
        "colab_type": "code",
        "colab": {}
      },
      "source": [
        "# Take a sample of data\n",
        "\n",
        "from sklearn.model_selection import train_test_split\n",
        "\n",
        "traindir= '/content/drive/My Drive/DeepLearning/petfinder data/train.csv'\n",
        "\n",
        "dataset, dev_dataset = train_test_split(\n",
        "    pandas.read_csv(os.path.join(traindir)), test_size=0.2, random_state=123)"
      ],
      "execution_count": 0,
      "outputs": []
    },
    {
      "cell_type": "code",
      "metadata": {
        "id": "MkpOZnMjtVpC",
        "colab_type": "code",
        "outputId": "96e86d94-1a94-4320-dcb0-f44b22ccc870",
        "colab": {
          "base_uri": "https://localhost:8080/",
          "height": 349
        }
      },
      "source": [
        "dataset[:3]"
      ],
      "execution_count": 43,
      "outputs": [
        {
          "output_type": "execute_result",
          "data": {
            "text/html": [
              "<div>\n",
              "<style scoped>\n",
              "    .dataframe tbody tr th:only-of-type {\n",
              "        vertical-align: middle;\n",
              "    }\n",
              "\n",
              "    .dataframe tbody tr th {\n",
              "        vertical-align: top;\n",
              "    }\n",
              "\n",
              "    .dataframe thead th {\n",
              "        text-align: right;\n",
              "    }\n",
              "</style>\n",
              "<table border=\"1\" class=\"dataframe\">\n",
              "  <thead>\n",
              "    <tr style=\"text-align: right;\">\n",
              "      <th></th>\n",
              "      <th>Type</th>\n",
              "      <th>Age</th>\n",
              "      <th>Breed1</th>\n",
              "      <th>Breed2</th>\n",
              "      <th>Gender</th>\n",
              "      <th>Color1</th>\n",
              "      <th>Color2</th>\n",
              "      <th>Color3</th>\n",
              "      <th>MaturitySize</th>\n",
              "      <th>FurLength</th>\n",
              "      <th>Vaccinated</th>\n",
              "      <th>Dewormed</th>\n",
              "      <th>Sterilized</th>\n",
              "      <th>Health</th>\n",
              "      <th>Quantity</th>\n",
              "      <th>Fee</th>\n",
              "      <th>State</th>\n",
              "      <th>Description</th>\n",
              "      <th>AdoptionSpeed</th>\n",
              "      <th>PID</th>\n",
              "    </tr>\n",
              "  </thead>\n",
              "  <tbody>\n",
              "    <tr>\n",
              "      <th>7112</th>\n",
              "      <td>1</td>\n",
              "      <td>12</td>\n",
              "      <td>307</td>\n",
              "      <td>0</td>\n",
              "      <td>2</td>\n",
              "      <td>5</td>\n",
              "      <td>0</td>\n",
              "      <td>0</td>\n",
              "      <td>1</td>\n",
              "      <td>3</td>\n",
              "      <td>1</td>\n",
              "      <td>1</td>\n",
              "      <td>3</td>\n",
              "      <td>1</td>\n",
              "      <td>1</td>\n",
              "      <td>0</td>\n",
              "      <td>41330</td>\n",
              "      <td>Hi everyone This is super girl. She is a very ...</td>\n",
              "      <td>3</td>\n",
              "      <td>9999</td>\n",
              "    </tr>\n",
              "    <tr>\n",
              "      <th>10521</th>\n",
              "      <td>2</td>\n",
              "      <td>1</td>\n",
              "      <td>265</td>\n",
              "      <td>0</td>\n",
              "      <td>2</td>\n",
              "      <td>1</td>\n",
              "      <td>5</td>\n",
              "      <td>7</td>\n",
              "      <td>2</td>\n",
              "      <td>2</td>\n",
              "      <td>3</td>\n",
              "      <td>3</td>\n",
              "      <td>2</td>\n",
              "      <td>1</td>\n",
              "      <td>1</td>\n",
              "      <td>0</td>\n",
              "      <td>41401</td>\n",
              "      <td>Snow is Brownie's sister and is very active as...</td>\n",
              "      <td>2</td>\n",
              "      <td>14903</td>\n",
              "    </tr>\n",
              "    <tr>\n",
              "      <th>2058</th>\n",
              "      <td>2</td>\n",
              "      <td>8</td>\n",
              "      <td>266</td>\n",
              "      <td>0</td>\n",
              "      <td>2</td>\n",
              "      <td>2</td>\n",
              "      <td>6</td>\n",
              "      <td>7</td>\n",
              "      <td>2</td>\n",
              "      <td>1</td>\n",
              "      <td>2</td>\n",
              "      <td>1</td>\n",
              "      <td>2</td>\n",
              "      <td>1</td>\n",
              "      <td>1</td>\n",
              "      <td>0</td>\n",
              "      <td>41401</td>\n",
              "      <td>We found her when she was about 3 months and s...</td>\n",
              "      <td>4</td>\n",
              "      <td>2935</td>\n",
              "    </tr>\n",
              "  </tbody>\n",
              "</table>\n",
              "</div>"
            ],
            "text/plain": [
              "       Type  Age  ...  AdoptionSpeed    PID\n",
              "7112      1   12  ...              3   9999\n",
              "10521     2    1  ...              2  14903\n",
              "2058      2    8  ...              4   2935\n",
              "\n",
              "[3 rows x 20 columns]"
            ]
          },
          "metadata": {
            "tags": []
          },
          "execution_count": 43
        }
      ]
    },
    {
      "cell_type": "code",
      "metadata": {
        "id": "U0gQvqLctafL",
        "colab_type": "code",
        "outputId": "ff2db8d9-ba8d-4721-d9e7-9b42a63b2acc",
        "colab": {
          "base_uri": "https://localhost:8080/",
          "height": 374
        }
      },
      "source": [
        "dataset.dtypes"
      ],
      "execution_count": 44,
      "outputs": [
        {
          "output_type": "execute_result",
          "data": {
            "text/plain": [
              "Type              int64\n",
              "Age               int64\n",
              "Breed1            int64\n",
              "Breed2            int64\n",
              "Gender            int64\n",
              "Color1            int64\n",
              "Color2            int64\n",
              "Color3            int64\n",
              "MaturitySize      int64\n",
              "FurLength         int64\n",
              "Vaccinated        int64\n",
              "Dewormed          int64\n",
              "Sterilized        int64\n",
              "Health            int64\n",
              "Quantity          int64\n",
              "Fee               int64\n",
              "State             int64\n",
              "Description      object\n",
              "AdoptionSpeed     int64\n",
              "PID               int64\n",
              "dtype: object"
            ]
          },
          "metadata": {
            "tags": []
          },
          "execution_count": 44
        }
      ]
    },
    {
      "cell_type": "code",
      "metadata": {
        "id": "J-gOqRxOwR7t",
        "colab_type": "code",
        "outputId": "fee5f08e-6ce3-4063-a449-eb9d6e0f6ba9",
        "colab": {
          "base_uri": "https://localhost:8080/",
          "height": 317
        }
      },
      "source": [
        "dataset.describe()"
      ],
      "execution_count": 45,
      "outputs": [
        {
          "output_type": "execute_result",
          "data": {
            "text/html": [
              "<div>\n",
              "<style scoped>\n",
              "    .dataframe tbody tr th:only-of-type {\n",
              "        vertical-align: middle;\n",
              "    }\n",
              "\n",
              "    .dataframe tbody tr th {\n",
              "        vertical-align: top;\n",
              "    }\n",
              "\n",
              "    .dataframe thead th {\n",
              "        text-align: right;\n",
              "    }\n",
              "</style>\n",
              "<table border=\"1\" class=\"dataframe\">\n",
              "  <thead>\n",
              "    <tr style=\"text-align: right;\">\n",
              "      <th></th>\n",
              "      <th>Type</th>\n",
              "      <th>Age</th>\n",
              "      <th>Breed1</th>\n",
              "      <th>Breed2</th>\n",
              "      <th>Gender</th>\n",
              "      <th>Color1</th>\n",
              "      <th>Color2</th>\n",
              "      <th>Color3</th>\n",
              "      <th>MaturitySize</th>\n",
              "      <th>FurLength</th>\n",
              "      <th>Vaccinated</th>\n",
              "      <th>Dewormed</th>\n",
              "      <th>Sterilized</th>\n",
              "      <th>Health</th>\n",
              "      <th>Quantity</th>\n",
              "      <th>Fee</th>\n",
              "      <th>State</th>\n",
              "      <th>AdoptionSpeed</th>\n",
              "      <th>PID</th>\n",
              "    </tr>\n",
              "  </thead>\n",
              "  <tbody>\n",
              "    <tr>\n",
              "      <th>count</th>\n",
              "      <td>8465.000000</td>\n",
              "      <td>8465.000000</td>\n",
              "      <td>8465.000000</td>\n",
              "      <td>8465.000000</td>\n",
              "      <td>8465.000000</td>\n",
              "      <td>8465.000000</td>\n",
              "      <td>8465.000000</td>\n",
              "      <td>8465.000000</td>\n",
              "      <td>8465.000000</td>\n",
              "      <td>8465.000000</td>\n",
              "      <td>8465.000000</td>\n",
              "      <td>8465.000000</td>\n",
              "      <td>8465.000000</td>\n",
              "      <td>8465.000000</td>\n",
              "      <td>8465.000000</td>\n",
              "      <td>8465.000000</td>\n",
              "      <td>8465.000000</td>\n",
              "      <td>8465.000000</td>\n",
              "      <td>8465.000000</td>\n",
              "    </tr>\n",
              "    <tr>\n",
              "      <th>mean</th>\n",
              "      <td>1.456940</td>\n",
              "      <td>10.555700</td>\n",
              "      <td>265.155818</td>\n",
              "      <td>74.506793</td>\n",
              "      <td>1.777791</td>\n",
              "      <td>2.233196</td>\n",
              "      <td>3.249616</td>\n",
              "      <td>1.849498</td>\n",
              "      <td>1.863201</td>\n",
              "      <td>1.460012</td>\n",
              "      <td>1.731483</td>\n",
              "      <td>1.571766</td>\n",
              "      <td>1.915889</td>\n",
              "      <td>1.036858</td>\n",
              "      <td>1.589014</td>\n",
              "      <td>20.920614</td>\n",
              "      <td>41346.011459</td>\n",
              "      <td>2.518606</td>\n",
              "      <td>7485.124395</td>\n",
              "    </tr>\n",
              "    <tr>\n",
              "      <th>std</th>\n",
              "      <td>0.498172</td>\n",
              "      <td>18.434148</td>\n",
              "      <td>60.619382</td>\n",
              "      <td>123.553207</td>\n",
              "      <td>0.685991</td>\n",
              "      <td>1.741156</td>\n",
              "      <td>2.746788</td>\n",
              "      <td>2.972270</td>\n",
              "      <td>0.549272</td>\n",
              "      <td>0.594826</td>\n",
              "      <td>0.672216</td>\n",
              "      <td>0.704483</td>\n",
              "      <td>0.563555</td>\n",
              "      <td>0.198797</td>\n",
              "      <td>1.503979</td>\n",
              "      <td>78.356122</td>\n",
              "      <td>32.415398</td>\n",
              "      <td>1.179401</td>\n",
              "      <td>4303.980665</td>\n",
              "    </tr>\n",
              "    <tr>\n",
              "      <th>min</th>\n",
              "      <td>1.000000</td>\n",
              "      <td>0.000000</td>\n",
              "      <td>0.000000</td>\n",
              "      <td>0.000000</td>\n",
              "      <td>1.000000</td>\n",
              "      <td>1.000000</td>\n",
              "      <td>0.000000</td>\n",
              "      <td>0.000000</td>\n",
              "      <td>1.000000</td>\n",
              "      <td>1.000000</td>\n",
              "      <td>1.000000</td>\n",
              "      <td>1.000000</td>\n",
              "      <td>1.000000</td>\n",
              "      <td>1.000000</td>\n",
              "      <td>1.000000</td>\n",
              "      <td>0.000000</td>\n",
              "      <td>41324.000000</td>\n",
              "      <td>0.000000</td>\n",
              "      <td>0.000000</td>\n",
              "    </tr>\n",
              "    <tr>\n",
              "      <th>25%</th>\n",
              "      <td>1.000000</td>\n",
              "      <td>2.000000</td>\n",
              "      <td>265.000000</td>\n",
              "      <td>0.000000</td>\n",
              "      <td>1.000000</td>\n",
              "      <td>1.000000</td>\n",
              "      <td>0.000000</td>\n",
              "      <td>0.000000</td>\n",
              "      <td>2.000000</td>\n",
              "      <td>1.000000</td>\n",
              "      <td>1.000000</td>\n",
              "      <td>1.000000</td>\n",
              "      <td>2.000000</td>\n",
              "      <td>1.000000</td>\n",
              "      <td>1.000000</td>\n",
              "      <td>0.000000</td>\n",
              "      <td>41326.000000</td>\n",
              "      <td>2.000000</td>\n",
              "      <td>3788.000000</td>\n",
              "    </tr>\n",
              "    <tr>\n",
              "      <th>50%</th>\n",
              "      <td>1.000000</td>\n",
              "      <td>3.000000</td>\n",
              "      <td>266.000000</td>\n",
              "      <td>0.000000</td>\n",
              "      <td>2.000000</td>\n",
              "      <td>2.000000</td>\n",
              "      <td>2.000000</td>\n",
              "      <td>0.000000</td>\n",
              "      <td>2.000000</td>\n",
              "      <td>1.000000</td>\n",
              "      <td>2.000000</td>\n",
              "      <td>1.000000</td>\n",
              "      <td>2.000000</td>\n",
              "      <td>1.000000</td>\n",
              "      <td>1.000000</td>\n",
              "      <td>0.000000</td>\n",
              "      <td>41326.000000</td>\n",
              "      <td>2.000000</td>\n",
              "      <td>7465.000000</td>\n",
              "    </tr>\n",
              "    <tr>\n",
              "      <th>75%</th>\n",
              "      <td>2.000000</td>\n",
              "      <td>12.000000</td>\n",
              "      <td>307.000000</td>\n",
              "      <td>189.000000</td>\n",
              "      <td>2.000000</td>\n",
              "      <td>3.000000</td>\n",
              "      <td>6.000000</td>\n",
              "      <td>5.000000</td>\n",
              "      <td>2.000000</td>\n",
              "      <td>2.000000</td>\n",
              "      <td>2.000000</td>\n",
              "      <td>2.000000</td>\n",
              "      <td>2.000000</td>\n",
              "      <td>1.000000</td>\n",
              "      <td>1.000000</td>\n",
              "      <td>0.000000</td>\n",
              "      <td>41401.000000</td>\n",
              "      <td>4.000000</td>\n",
              "      <td>11213.000000</td>\n",
              "    </tr>\n",
              "    <tr>\n",
              "      <th>max</th>\n",
              "      <td>2.000000</td>\n",
              "      <td>238.000000</td>\n",
              "      <td>307.000000</td>\n",
              "      <td>307.000000</td>\n",
              "      <td>3.000000</td>\n",
              "      <td>7.000000</td>\n",
              "      <td>7.000000</td>\n",
              "      <td>7.000000</td>\n",
              "      <td>4.000000</td>\n",
              "      <td>3.000000</td>\n",
              "      <td>3.000000</td>\n",
              "      <td>3.000000</td>\n",
              "      <td>3.000000</td>\n",
              "      <td>3.000000</td>\n",
              "      <td>20.000000</td>\n",
              "      <td>3000.000000</td>\n",
              "      <td>41415.000000</td>\n",
              "      <td>4.000000</td>\n",
              "      <td>14992.000000</td>\n",
              "    </tr>\n",
              "  </tbody>\n",
              "</table>\n",
              "</div>"
            ],
            "text/plain": [
              "              Type          Age  ...  AdoptionSpeed           PID\n",
              "count  8465.000000  8465.000000  ...    8465.000000   8465.000000\n",
              "mean      1.456940    10.555700  ...       2.518606   7485.124395\n",
              "std       0.498172    18.434148  ...       1.179401   4303.980665\n",
              "min       1.000000     0.000000  ...       0.000000      0.000000\n",
              "25%       1.000000     2.000000  ...       2.000000   3788.000000\n",
              "50%       1.000000     3.000000  ...       2.000000   7465.000000\n",
              "75%       2.000000    12.000000  ...       4.000000  11213.000000\n",
              "max       2.000000   238.000000  ...       4.000000  14992.000000\n",
              "\n",
              "[8 rows x 19 columns]"
            ]
          },
          "metadata": {
            "tags": []
          },
          "execution_count": 45
        }
      ]
    },
    {
      "cell_type": "markdown",
      "metadata": {
        "id": "CTMoqNL68jLI",
        "colab_type": "text"
      },
      "source": [
        "A continuación se observa la distribución de las etiquetas. Ésto sirve para ver si hay un desbalanceo de clases, y tambien como una forma para hacer un rápido control visual del desempeño del clasificador."
      ]
    },
    {
      "cell_type": "code",
      "metadata": {
        "id": "L_BEWYzBtePm",
        "colab_type": "code",
        "colab": {}
      },
      "source": [
        "target_col = 'AdoptionSpeed'\n",
        "nlabels = dataset[target_col].unique().shape[0]"
      ],
      "execution_count": 0,
      "outputs": []
    },
    {
      "cell_type": "code",
      "metadata": {
        "id": "OMuqLopVtiwR",
        "colab_type": "code",
        "outputId": "404bd85e-4dc2-4173-d286-c13e5e0ce74f",
        "colab": {
          "base_uri": "https://localhost:8080/",
          "height": 283
        }
      },
      "source": [
        "seaborn.countplot(dataset.AdoptionSpeed, color='blue')\n",
        "seaborn.despine()"
      ],
      "execution_count": 47,
      "outputs": [
        {
          "output_type": "display_data",
          "data": {
            "image/png": "[encoded data removed]",
            "text/plain": [
              "<Figure size 432x288 with 1 Axes>"
            ]
          },
          "metadata": {
            "tags": []
          }
        }
      ]
    },
    {
      "cell_type": "code",
      "metadata": {
        "id": "2OQeUVEUtqEc",
        "colab_type": "code",
        "colab": {}
      },
      "source": [
        "try:\n",
        "    # %tensorflow_version only exists in Colab.\n",
        "    %tensorflow_version 2.x\n",
        "except Exception:\n",
        "    pass\n",
        "import tensorflow as tf\n",
        "\n",
        "from tensorflow.keras import layers, models"
      ],
      "execution_count": 0,
      "outputs": []
    },
    {
      "cell_type": "code",
      "metadata": {
        "id": "Fz89sLwNtv2M",
        "colab_type": "code",
        "colab": {}
      },
      "source": [
        "# It's important to always use the same one-hot length\n",
        "one_hot_columns = {\n",
        "    one_hot_col: dataset[one_hot_col].max()   # Comienzan en 1\n",
        "    for one_hot_col in ['Type', 'Gender', 'Color1', 'Vaccinated', 'MaturitySize', 'Sterilized', 'Health', 'FurLength']\n",
        "}\n",
        "embedded_columns = {\n",
        "    embedded_col: dataset[embedded_col].max() + 1  # Breed comienza en 0\n",
        "    for embedded_col in ['Breed1']\n",
        "}\n",
        "numeric_columns = ['Age', 'Fee']"
      ],
      "execution_count": 0,
      "outputs": []
    },
    {
      "cell_type": "code",
      "metadata": {
        "id": "RRCH6gMAtzcV",
        "colab_type": "code",
        "colab": {}
      },
      "source": [
        "from sklearn.preprocessing import StandardScaler\n",
        "scaler = StandardScaler()"
      ],
      "execution_count": 0,
      "outputs": []
    },
    {
      "cell_type": "code",
      "metadata": {
        "id": "P97BhZ-_t44r",
        "colab_type": "code",
        "colab": {}
      },
      "source": [
        "def process_features(df):\n",
        "    direct_features = []\n",
        "    # Create one hot encodings\n",
        "    for one_hot_col, max_value in one_hot_columns.items():\n",
        "        direct_features.append(tf.keras.utils.to_categorical(df[one_hot_col] - 1, max_value))\n",
        "        \n",
        "    # Create and append numeric columns\n",
        "    # Don't forget to normalize!\n",
        "    scaler.fit(df[numeric_columns])\n",
        "    numeric_col = scaler.transform(df[numeric_columns])\n",
        "    \n",
        "    # Concatenate all features that don't need further embedding into a single matrix.\n",
        "    features = {'direct_features': numpy.hstack(direct_features), 'numeric_columns': numeric_col}\n",
        "    # print(features)\n",
        "    \n",
        "    # Create embedding columns - nothing to do here. We will use the zero embedding for OOV\n",
        "    for embedded_col in embedded_columns.keys():\n",
        "        features[embedded_col] = df[embedded_col].values\n",
        "\n",
        "    # Convert labels to one-hot encodings\n",
        "    targets = tf.keras.utils.to_categorical(df[target_col], nlabels)\n",
        "    \n",
        "    return features, targets"
      ],
      "execution_count": 0,
      "outputs": []
    },
    {
      "cell_type": "code",
      "metadata": {
        "id": "1jin4wODt-8C",
        "colab_type": "code",
        "colab": {}
      },
      "source": [
        "X_train, y_train = process_features(dataset)"
      ],
      "execution_count": 0,
      "outputs": []
    },
    {
      "cell_type": "code",
      "metadata": {
        "id": "g1cGjHDQuGBX",
        "colab_type": "code",
        "outputId": "e1eb27fb-234e-4120-f1c0-65186c6fb598",
        "colab": {
          "base_uri": "https://localhost:8080/",
          "height": 34
        }
      },
      "source": [
        "direct_features_input_shape = (X_train['direct_features'].shape[1],)\n",
        "numeric_col_input_shape = (X_train['numeric_columns'].shape[1],)\n",
        "direct_features_input_shape, numeric_col_input_shape"
      ],
      "execution_count": 53,
      "outputs": [
        {
          "output_type": "execute_result",
          "data": {
            "text/plain": [
              "((28,), (2,))"
            ]
          },
          "metadata": {
            "tags": []
          },
          "execution_count": 53
        }
      ]
    },
    {
      "cell_type": "code",
      "metadata": {
        "id": "raXSEyz4uKdW",
        "colab_type": "code",
        "colab": {}
      },
      "source": [
        "batch_size = 32\n",
        "# TODO shuffle the train dataset!\n",
        "train_ds = tf.data.Dataset.from_tensor_slices((X_train, y_train)).batch(batch_size)\n",
        "test_ds = tf.data.Dataset.from_tensor_slices(\n",
        "    process_features(dev_dataset)).batch(batch_size)"
      ],
      "execution_count": 0,
      "outputs": []
    },
    {
      "cell_type": "markdown",
      "metadata": {
        "id": "0vAwkw7MWL2p",
        "colab_type": "text"
      },
      "source": [
        "## Ejercicio 1\n",
        "\n",
        "En una primera instancia se prueban dos redes, una más simple y otra más compleja, para ver como varía la métrica de accuracy sobre los conjuntos de entrenamiento y development. Se exploran distintos hiperparámetros:\n",
        "* Cantidad de capas y número de neuronas.\n",
        "* Funciones de activación\n",
        "* Regularización de pesos, l1 l2 elastic net\n",
        "* Dropout\n",
        "* Batch normalization"
      ]
    },
    {
      "cell_type": "markdown",
      "metadata": {
        "id": "KUb3jjGUXWiK",
        "colab_type": "text"
      },
      "source": [
        "__Primera red, simple:__\n",
        "* Las neuronas de entrada son: 28 de direct features, 2 de numeric col y 77 de la salida de la capa de embedding\n",
        "* Una capa oculta de 50 neuronas, con activación relu, regularización l2\n",
        "* La capa de salida con 5 neuronas y softmax para clasificación"
      ]
    },
    {
      "cell_type": "code",
      "metadata": {
        "id": "UAl6t5-nXd35",
        "colab_type": "code",
        "colab": {
          "base_uri": "https://localhost:8080/",
          "height": 51
        },
        "outputId": "7edf88c4-6afe-40e7-dfc7-3e4ae90214ef"
      },
      "source": [
        "tf.keras.backend.clear_session()\n",
        "from keras import regularizers\n",
        "\n",
        "hidden_layer_size = 50   # numero de neuronas en dicha capa\n",
        "\n",
        "# Add one input and one embedding for each embedded column\n",
        "embedding_layers = []\n",
        "inputs = []\n",
        "for embedded_col, max_value in embedded_columns.items():\n",
        "    input_layer = layers.Input(shape=(1,), name=embedded_col)\n",
        "    inputs.append(input_layer)\n",
        "    \n",
        "    # Define the embedding layer\n",
        "    embedding_size = int(max_value / 4)\n",
        "    embedding_layers.append(\n",
        "        tf.squeeze(layers.Embedding(input_dim=max_value, output_dim=embedding_size)(input_layer), axis=-2))\n",
        "    print('Adding embedding of size {} for layer {}'.format(embedding_size, embedded_col))\n",
        "\n",
        "# Add the direct features already calculated\n",
        "direct_features_input = layers.Input(shape=direct_features_input_shape, name='direct_features')\n",
        "inputs.append(direct_features_input)\n",
        "\n",
        "numeric_col_input = layers.Input(shape=numeric_col_input_shape, name='numeric_columns')\n",
        "inputs.append(numeric_col_input)\n",
        "    \n",
        "# Concatenate everything together\n",
        "features = layers.concatenate(embedding_layers + [direct_features_input] + [numeric_col_input])\n",
        "print(features)\n",
        "\n",
        "dense1 = layers.Dense(hidden_layer_size, activation='relu', kernel_initializer='RandomNormal', \n",
        "                      kernel_regularizer=regularizers.l2(0.001))(features)\n",
        "output_layer = layers.Dense(nlabels, activation='softmax')(dense1)\n",
        "\n",
        "model = models.Model(inputs=inputs, outputs=output_layer)\n",
        "\n",
        "model.compile(loss='categorical_crossentropy', optimizer='adam', metrics=['accuracy'])"
      ],
      "execution_count": 55,
      "outputs": [
        {
          "output_type": "stream",
          "text": [
            "Adding embedding of size 77 for layer Breed1\n",
            "Tensor(\"concatenate/Identity:0\", shape=(None, 107), dtype=float32)\n"
          ],
          "name": "stdout"
        }
      ]
    },
    {
      "cell_type": "code",
      "metadata": {
        "id": "E7z9-hS4Zcz4",
        "colab_type": "code",
        "colab": {
          "base_uri": "https://localhost:8080/",
          "height": 391
        },
        "outputId": "e3aeeae1-5e39-44a5-ee0c-11970b7f9b5d"
      },
      "source": [
        "mlflow.set_experiment('first_approach')\n",
        "\n",
        "with mlflow.start_run(nested=True):\n",
        "    # Log model hiperparameters first\n",
        "    mlflow.log_param('hidden_layer_size', hidden_layer_size)\n",
        "    mlflow.log_param('embedded_columns', embedded_columns)\n",
        "    mlflow.log_param('one_hot_columns', one_hot_columns)\n",
        "    mlflow.log_param('numerical_columns', numeric_columns) \n",
        "    \n",
        "    # Train\n",
        "    epochs = 10\n",
        "    history = model.fit(train_ds, epochs=epochs)\n",
        "    \n",
        "    # Evaluate\n",
        "    loss, accuracy = model.evaluate(test_ds)\n",
        "    print(\"*** Test loss: {} - accuracy: {}\".format(loss, accuracy))\n",
        "    mlflow.log_metric('epochs', epochs)\n",
        "    mlflow.log_metric('loss', loss)\n",
        "    mlflow.log_metric('accuracy', accuracy)"
      ],
      "execution_count": 56,
      "outputs": [
        {
          "output_type": "stream",
          "text": [
            "Epoch 1/10\n",
            "265/265 [==============================] - 2s 8ms/step - loss: 1.4608 - accuracy: 0.3205\n",
            "Epoch 2/10\n",
            "265/265 [==============================] - 1s 4ms/step - loss: 1.4079 - accuracy: 0.3607\n",
            "Epoch 3/10\n",
            "265/265 [==============================] - 1s 4ms/step - loss: 1.3963 - accuracy: 0.3739\n",
            "Epoch 4/10\n",
            "265/265 [==============================] - 1s 3ms/step - loss: 1.3891 - accuracy: 0.3785\n",
            "Epoch 5/10\n",
            "265/265 [==============================] - 1s 3ms/step - loss: 1.3829 - accuracy: 0.3855\n",
            "Epoch 6/10\n",
            "265/265 [==============================] - 1s 3ms/step - loss: 1.3774 - accuracy: 0.3913\n",
            "Epoch 7/10\n",
            "265/265 [==============================] - 1s 3ms/step - loss: 1.3726 - accuracy: 0.3947\n",
            "Epoch 8/10\n",
            "265/265 [==============================] - 1s 3ms/step - loss: 1.3682 - accuracy: 0.3969\n",
            "Epoch 9/10\n",
            "265/265 [==============================] - 1s 3ms/step - loss: 1.3643 - accuracy: 0.3985\n",
            "Epoch 10/10\n",
            "265/265 [==============================] - 1s 3ms/step - loss: 1.3609 - accuracy: 0.3976\n",
            "67/67 [==============================] - 0s 4ms/step - loss: 1.3750 - accuracy: 0.3873\n",
            "*** Test loss: 1.3750088339421287 - accuracy: 0.38734057545661926\n"
          ],
          "name": "stdout"
        }
      ]
    },
    {
      "cell_type": "code",
      "metadata": {
        "id": "DfgHdTOZ08J4",
        "colab_type": "code",
        "colab": {
          "base_uri": "https://localhost:8080/",
          "height": 283
        },
        "outputId": "450d08e2-c34d-43af-b74c-fc111ad044fb"
      },
      "source": [
        "predictions = numpy.argmax(model.predict(test_ds), axis=1) # predicciones en dev\n",
        "seaborn.countplot(predictions)"
      ],
      "execution_count": 57,
      "outputs": [
        {
          "output_type": "execute_result",
          "data": {
            "text/plain": [
              "<matplotlib.axes._subplots.AxesSubplot at 0x7f64f0140080>"
            ]
          },
          "metadata": {
            "tags": []
          },
          "execution_count": 57
        },
        {
          "output_type": "display_data",
          "data": {
            "image/png": "[encoded data removed]",
            "text/plain": [
              "<Figure size 432x288 with 1 Axes>"
            ]
          },
          "metadata": {
            "tags": []
          }
        }
      ]
    },
    {
      "cell_type": "markdown",
      "metadata": {
        "id": "jmVs9AYRZeSu",
        "colab_type": "text"
      },
      "source": [
        "__Segunda red, más compleja:__\n",
        "* Las neuronas de entrada son: 28 de direct features, 2 de numeric col y 77 de la salida de la capa de embedding\n",
        "* Primer capa oculta con 60 neuronas, activación relu y regularización l2(0.001)\n",
        "* Primer capa dropout con p=0.3 de tener una neurona apagada\n",
        "* Segunda capa oculta con 15 neuronas, activación relu y regularización l2(0.001)\n",
        "* Segunda capa dropout con p=0.3 de tener una neurona apagada\n",
        "* La capa de salida con 5 neuronas y softmax para clasificación\n",
        "\n",
        "Se intentó usar capas BatchNormalization pero en éste caso no tuvieron mejores resultados, ni una aceleración notable en el aprendizaje."
      ]
    },
    {
      "cell_type": "code",
      "metadata": {
        "id": "rvMTirFElk5r",
        "colab_type": "code",
        "colab": {
          "base_uri": "https://localhost:8080/",
          "height": 51
        },
        "outputId": "052b1bf3-7ede-4ac2-c456-09dee1ae779c"
      },
      "source": [
        "tf.keras.backend.clear_session()\n",
        "\n",
        "hidden_layer_size = 60   # numero de neuronas en dicha capa\n",
        "hidden_layer_size2 = 15\n",
        "\n",
        "# Add one input and one embedding for each embedded column\n",
        "embedding_layers = []\n",
        "inputs = []\n",
        "for embedded_col, max_value in embedded_columns.items():\n",
        "    input_layer = layers.Input(shape=(1,), name=embedded_col)\n",
        "    inputs.append(input_layer)\n",
        "    \n",
        "    # Define the embedding layer\n",
        "    embedding_size = int(max_value / 4)\n",
        "    embedding_layers.append(\n",
        "        tf.squeeze(layers.Embedding(input_dim=max_value, output_dim=embedding_size)(input_layer), axis=-2))\n",
        "    print('Adding embedding of size {} for layer {}'.format(embedding_size, embedded_col))\n",
        "\n",
        "# Add the direct features already calculated\n",
        "direct_features_input = layers.Input(shape=direct_features_input_shape, name='direct_features')\n",
        "inputs.append(direct_features_input)\n",
        "\n",
        "numeric_col_input = layers.Input(shape=numeric_col_input_shape, name='numeric_columns')\n",
        "inputs.append(numeric_col_input)\n",
        "    \n",
        "# Concatenate everything together\n",
        "features = layers.concatenate(embedding_layers + [direct_features_input] + [numeric_col_input])\n",
        "print(features)\n",
        "\n",
        "dense1 = layers.Dense(hidden_layer_size, activation='relu', kernel_initializer='RandomNormal', \n",
        "                      kernel_regularizer=regularizers.l2(0.001))(features)\n",
        "dropout1 = layers.Dropout(0.3)(dense1)\n",
        "dense2 = layers.Dense(hidden_layer_size2, activation='relu', kernel_initializer='RandomNormal', \n",
        "                      kernel_regularizer=regularizers.l2(0.001))(dropout1)\n",
        "dropout2 = layers.Dropout(0.3)(dense2)\n",
        "output_layer = layers.Dense(nlabels, activation='softmax')(dropout2)\n",
        "\n",
        "model = models.Model(inputs=inputs, outputs=output_layer)\n",
        "model.compile(loss='categorical_crossentropy', optimizer='adam', metrics=['accuracy'])"
      ],
      "execution_count": 58,
      "outputs": [
        {
          "output_type": "stream",
          "text": [
            "Adding embedding of size 77 for layer Breed1\n",
            "Tensor(\"concatenate/Identity:0\", shape=(None, 107), dtype=float32)\n"
          ],
          "name": "stdout"
        }
      ]
    },
    {
      "cell_type": "code",
      "metadata": {
        "id": "RDNu4PCilxp8",
        "colab_type": "code",
        "colab": {
          "base_uri": "https://localhost:8080/",
          "height": 391
        },
        "outputId": "e7d47920-b988-495f-fd87-e4c269a35105"
      },
      "source": [
        "mlflow.set_experiment('second_approach')\n",
        "\n",
        "with mlflow.start_run(nested=True):\n",
        "    # Log model hiperparameters first\n",
        "    mlflow.log_param('hidden_layer_size', hidden_layer_size)\n",
        "    mlflow.log_param('hidden_layer_size2', hidden_layer_size2)\n",
        "    mlflow.log_param('embedded_columns', embedded_columns)\n",
        "    mlflow.log_param('one_hot_columns', one_hot_columns)\n",
        "    mlflow.log_param('numerical_columns', numeric_columns) \n",
        "    \n",
        "    # Train\n",
        "    epochs = 10\n",
        "    history = model.fit(train_ds, epochs=epochs)\n",
        "    \n",
        "    # Evaluate\n",
        "    loss, accuracy = model.evaluate(test_ds)\n",
        "    print(\"*** Test loss: {} - accuracy: {}\".format(loss, accuracy))\n",
        "    mlflow.log_metric('epochs', epochs)\n",
        "    mlflow.log_metric('loss', loss)\n",
        "    mlflow.log_metric('accuracy', accuracy)"
      ],
      "execution_count": 59,
      "outputs": [
        {
          "output_type": "stream",
          "text": [
            "Epoch 1/10\n",
            "265/265 [==============================] - 2s 9ms/step - loss: 1.5102 - accuracy: 0.2846\n",
            "Epoch 2/10\n",
            "265/265 [==============================] - 1s 4ms/step - loss: 1.4521 - accuracy: 0.3205\n",
            "Epoch 3/10\n",
            "265/265 [==============================] - 1s 4ms/step - loss: 1.4412 - accuracy: 0.3359\n",
            "Epoch 4/10\n",
            "265/265 [==============================] - 1s 4ms/step - loss: 1.4300 - accuracy: 0.3445\n",
            "Epoch 5/10\n",
            "265/265 [==============================] - 1s 4ms/step - loss: 1.4232 - accuracy: 0.3464\n",
            "Epoch 6/10\n",
            "265/265 [==============================] - 1s 4ms/step - loss: 1.4192 - accuracy: 0.3523\n",
            "Epoch 7/10\n",
            "265/265 [==============================] - 1s 4ms/step - loss: 1.4197 - accuracy: 0.3565\n",
            "Epoch 8/10\n",
            "265/265 [==============================] - 1s 4ms/step - loss: 1.4154 - accuracy: 0.3615\n",
            "Epoch 9/10\n",
            "265/265 [==============================] - 1s 4ms/step - loss: 1.4120 - accuracy: 0.3690\n",
            "Epoch 10/10\n",
            "265/265 [==============================] - 1s 4ms/step - loss: 1.4076 - accuracy: 0.3653\n",
            "67/67 [==============================] - 0s 4ms/step - loss: 1.3882 - accuracy: 0.3855\n",
            "*** Test loss: 1.3881590224024076 - accuracy: 0.3854511082172394\n"
          ],
          "name": "stdout"
        }
      ]
    },
    {
      "cell_type": "code",
      "metadata": {
        "id": "yGAtxx4F04p_",
        "colab_type": "code",
        "colab": {
          "base_uri": "https://localhost:8080/",
          "height": 286
        },
        "outputId": "deacc9cb-5231-4d14-9c5d-cb99b27035a5"
      },
      "source": [
        "predictions = numpy.argmax(model.predict(test_ds), axis=1) # predicciones en dev\n",
        "seaborn.countplot(predictions)"
      ],
      "execution_count": 60,
      "outputs": [
        {
          "output_type": "execute_result",
          "data": {
            "text/plain": [
              "<matplotlib.axes._subplots.AxesSubplot at 0x7f64939325f8>"
            ]
          },
          "metadata": {
            "tags": []
          },
          "execution_count": 60
        },
        {
          "output_type": "display_data",
          "data": {
            "image/png": "[encoded data removed]",
            "text/plain": [
              "<Figure size 432x288 with 1 Axes>"
            ]
          },
          "metadata": {
            "tags": []
          }
        }
      ]
    },
    {
      "cell_type": "markdown",
      "metadata": {
        "id": "Gw0oe1lfush6",
        "colab_type": "text"
      },
      "source": [
        "### __Conclusión:__\n",
        "\n",
        "Primero tengamos en cuenta que para éste práctico no se esta usando el dataset completo, faltan las imágenes, y las descripciones entre otros datos. Por ello todos los accuracies son relativamente bajos.\n",
        "\n",
        "Se exploran distintos modelos de red para ver como cambia la performance variando los distintos hiperparámetros.\n",
        "\n",
        "La red mas compleja al tener dos capas ocultas y mas neuronas tiene más posibilidades de hacer overfitting, por lo que se decidió agregar capas dropout. Con ello se ve que baja el accuracy sobre el conjunto de entrenamiento pero se consigue un buen accuracy sobre test. Aun así la alta diferencia entre ambos accuracys hace sospechar sobre la estabilidad de la red y que el accuracy sobre dev solo haya sido casualidad.\n",
        "\n",
        "Para la primera red, sin mayor regularización que l2(0.001) se obtiene buen accuracy tanto en train como en development.\n",
        "\n",
        "Otras observaciones durante el proceso:\n",
        "* Epochs: se observa que al aumentar el número de épocas por sobre 10, la red hace overfitting sobre el conjunto de entrenamiento y obtiene peor accuracy sobre el conjunto de development.\n",
        "* Al aumentar la constante del regularizador de 0.001 a 0.01 la regularización de los pesos es más fuerte y disminuye tanto el accuracy de train como de development.\n",
        "* El desempeño es mejor con relu en las capas ocultas que con tanh."
      ]
    },
    {
      "cell_type": "markdown",
      "metadata": {
        "id": "HYUXSe-Hl0VN",
        "colab_type": "text"
      },
      "source": [
        "### Red usada para hacer submission en kaggle:\n",
        "Por una cuestión de tiempo no se llegaron a probar las otras redes con el dataset de test de kaggle. Sí se probó la siguiente:"
      ]
    },
    {
      "cell_type": "code",
      "metadata": {
        "id": "CQ4OzEn5uU0n",
        "colab_type": "code",
        "outputId": "963670b5-5606-426c-8289-6754d72117e7",
        "colab": {
          "base_uri": "https://localhost:8080/",
          "height": 51
        }
      },
      "source": [
        "tf.keras.backend.clear_session()\n",
        "from keras import regularizers\n",
        "\n",
        "hidden_layer_size = 60   # numero de neuronas en dicha capa\n",
        "hidden_layer_size2 = 15\n",
        "\n",
        "# Add one input and one embedding for each embedded column\n",
        "embedding_layers = []\n",
        "inputs = []\n",
        "for embedded_col, max_value in embedded_columns.items():\n",
        "    input_layer = layers.Input(shape=(1,), name=embedded_col)\n",
        "    inputs.append(input_layer)\n",
        "    \n",
        "    # Define the embedding layer\n",
        "    embedding_size = int(max_value / 4)\n",
        "    embedding_layers.append(\n",
        "        tf.squeeze(layers.Embedding(input_dim=max_value, output_dim=embedding_size)(input_layer), axis=-2))\n",
        "    print('Adding embedding of size {} for layer {}'.format(embedding_size, embedded_col))\n",
        "\n",
        "# Add the direct features already calculated\n",
        "direct_features_input = layers.Input(shape=direct_features_input_shape, name='direct_features')\n",
        "inputs.append(direct_features_input)\n",
        "\n",
        "numeric_col_input = layers.Input(shape=numeric_col_input_shape, name='numeric_columns')\n",
        "inputs.append(numeric_col_input)\n",
        "    \n",
        "# Concatenate everything together\n",
        "features = layers.concatenate(embedding_layers + [direct_features_input] + [numeric_col_input])\n",
        "print(features)\n",
        "\n",
        "dense1 = layers.Dense(hidden_layer_size, activation='relu', kernel_initializer='RandomNormal', kernel_regularizer=regularizers.l2(0.001),\n",
        "                activity_regularizer=regularizers.l2(0.001))(features)\n",
        "dense2 = layers.Dense(hidden_layer_size2, activation='relu', kernel_initializer='RandomNormal', kernel_regularizer=regularizers.l2(0.001),\n",
        "                activity_regularizer=regularizers.l2(0.001))(dense1)\n",
        "output_layer = layers.Dense(nlabels, activation='softmax')(dense2)\n",
        "\n",
        "model = models.Model(inputs=inputs, outputs=output_layer)"
      ],
      "execution_count": 61,
      "outputs": [
        {
          "output_type": "stream",
          "text": [
            "Adding embedding of size 77 for layer Breed1\n",
            "Tensor(\"concatenate/Identity:0\", shape=(None, 107), dtype=float32)\n"
          ],
          "name": "stdout"
        }
      ]
    },
    {
      "cell_type": "code",
      "metadata": {
        "id": "iIbrtSmDuZsd",
        "colab_type": "code",
        "outputId": "b7c523fa-bc74-4394-da7d-ce7d4040f381",
        "colab": {
          "base_uri": "https://localhost:8080/",
          "height": 493
        }
      },
      "source": [
        "model.compile(loss='categorical_crossentropy', optimizer='adam',\n",
        "              metrics=['accuracy'])\n",
        "model.summary()"
      ],
      "execution_count": 62,
      "outputs": [
        {
          "output_type": "stream",
          "text": [
            "Model: \"model\"\n",
            "__________________________________________________________________________________________________\n",
            "Layer (type)                    Output Shape         Param #     Connected to                     \n",
            "==================================================================================================\n",
            "Breed1 (InputLayer)             [(None, 1)]          0                                            \n",
            "__________________________________________________________________________________________________\n",
            "embedding (Embedding)           (None, 1, 77)        23716       Breed1[0][0]                     \n",
            "__________________________________________________________________________________________________\n",
            "tf_op_layer_Squeeze (TensorFlow [(None, 77)]         0           embedding[0][0]                  \n",
            "__________________________________________________________________________________________________\n",
            "direct_features (InputLayer)    [(None, 28)]         0                                            \n",
            "__________________________________________________________________________________________________\n",
            "numeric_columns (InputLayer)    [(None, 2)]          0                                            \n",
            "__________________________________________________________________________________________________\n",
            "concatenate (Concatenate)       (None, 107)          0           tf_op_layer_Squeeze[0][0]        \n",
            "                                                                 direct_features[0][0]            \n",
            "                                                                 numeric_columns[0][0]            \n",
            "__________________________________________________________________________________________________\n",
            "dense (Dense)                   (None, 60)           6480        concatenate[0][0]                \n",
            "__________________________________________________________________________________________________\n",
            "dense_1 (Dense)                 (None, 15)           915         dense[0][0]                      \n",
            "__________________________________________________________________________________________________\n",
            "dense_2 (Dense)                 (None, 5)            80          dense_1[0][0]                    \n",
            "==================================================================================================\n",
            "Total params: 31,191\n",
            "Trainable params: 31,191\n",
            "Non-trainable params: 0\n",
            "__________________________________________________________________________________________________\n"
          ],
          "name": "stdout"
        }
      ]
    },
    {
      "cell_type": "code",
      "metadata": {
        "id": "q3aocn6yulqc",
        "colab_type": "code",
        "outputId": "9b43a355-9950-4a45-e332-ef4c1c161856",
        "colab": {
          "base_uri": "https://localhost:8080/",
          "height": 391
        }
      },
      "source": [
        "mlflow.set_experiment('kaggle_approach')\n",
        "\n",
        "with mlflow.start_run(nested=True):\n",
        "    # Log model hiperparameters first\n",
        "    mlflow.log_param('hidden_layer_size', hidden_layer_size)\n",
        "    mlflow.log_param('hidden_layer_size2', hidden_layer_size2)\n",
        "    mlflow.log_param('embedded_columns', embedded_columns)\n",
        "    mlflow.log_param('one_hot_columns', one_hot_columns)\n",
        "    mlflow.log_param('numerical_columns', numeric_columns) \n",
        "    \n",
        "    # Train\n",
        "    epochs = 10\n",
        "    history = model.fit(train_ds, epochs=epochs)\n",
        "    \n",
        "    # Evaluate\n",
        "    loss, accuracy = model.evaluate(test_ds)\n",
        "    print(\"*** Test loss: {} - accuracy: {}\".format(loss, accuracy))\n",
        "    mlflow.log_metric('epochs', epochs)\n",
        "    mlflow.log_metric('loss', loss)\n",
        "    mlflow.log_metric('accuracy', accuracy)"
      ],
      "execution_count": 63,
      "outputs": [
        {
          "output_type": "stream",
          "text": [
            "Epoch 1/10\n",
            "265/265 [==============================] - 2s 9ms/step - loss: 1.4740 - accuracy: 0.3133\n",
            "Epoch 2/10\n",
            "265/265 [==============================] - 1s 4ms/step - loss: 1.4228 - accuracy: 0.3511\n",
            "Epoch 3/10\n",
            "265/265 [==============================] - 1s 4ms/step - loss: 1.4107 - accuracy: 0.3673\n",
            "Epoch 4/10\n",
            "265/265 [==============================] - 1s 4ms/step - loss: 1.4031 - accuracy: 0.3727\n",
            "Epoch 5/10\n",
            "265/265 [==============================] - 1s 4ms/step - loss: 1.3973 - accuracy: 0.3794\n",
            "Epoch 6/10\n",
            "265/265 [==============================] - 1s 4ms/step - loss: 1.3924 - accuracy: 0.3850\n",
            "Epoch 7/10\n",
            "265/265 [==============================] - 1s 4ms/step - loss: 1.3877 - accuracy: 0.3903\n",
            "Epoch 8/10\n",
            "265/265 [==============================] - 1s 4ms/step - loss: 1.3835 - accuracy: 0.3946\n",
            "Epoch 9/10\n",
            "265/265 [==============================] - 1s 4ms/step - loss: 1.3793 - accuracy: 0.3965\n",
            "Epoch 10/10\n",
            "265/265 [==============================] - 1s 4ms/step - loss: 1.3758 - accuracy: 0.3995\n",
            "67/67 [==============================] - 0s 4ms/step - loss: 1.3818 - accuracy: 0.3855\n",
            "*** Test loss: 1.3817720582236106 - accuracy: 0.3854511082172394\n"
          ],
          "name": "stdout"
        }
      ]
    },
    {
      "cell_type": "code",
      "metadata": {
        "id": "aEgvmGng4KTj",
        "colab_type": "code",
        "outputId": "a3256c8b-83fa-4ade-c3f2-965863b86627",
        "colab": {
          "base_uri": "https://localhost:8080/",
          "height": 283
        }
      },
      "source": [
        "predictions = numpy.argmax(model.predict(test_ds), axis=1) # predicciones en dev\n",
        "seaborn.countplot(predictions)"
      ],
      "execution_count": 64,
      "outputs": [
        {
          "output_type": "execute_result",
          "data": {
            "text/plain": [
              "<matplotlib.axes._subplots.AxesSubplot at 0x7f64936efdd8>"
            ]
          },
          "metadata": {
            "tags": []
          },
          "execution_count": 64
        },
        {
          "output_type": "display_data",
          "data": {
            "image/png": "[encoded data removed]",
            "text/plain": [
              "<Figure size 432x288 with 1 Axes>"
            ]
          },
          "metadata": {
            "tags": []
          }
        }
      ]
    },
    {
      "cell_type": "markdown",
      "metadata": {
        "id": "ynEbzdljVg4a",
        "colab_type": "text"
      },
      "source": [
        "__Para hacer la submission a kaggle:__"
      ]
    },
    {
      "cell_type": "code",
      "metadata": {
        "id": "ajAabzyvHQCY",
        "colab_type": "code",
        "outputId": "3b1c9874-46fc-4069-8e20-015a5c79234f",
        "colab": {
          "base_uri": "https://localhost:8080/",
          "height": 349
        }
      },
      "source": [
        "testdir= '/content/drive/My Drive/DeepLearning/petfinder data/test.csv'\n",
        "test_dataset = pandas.read_csv(os.path.join(testdir))\n",
        "test_dataset[:3]"
      ],
      "execution_count": 65,
      "outputs": [
        {
          "output_type": "execute_result",
          "data": {
            "text/html": [
              "<div>\n",
              "<style scoped>\n",
              "    .dataframe tbody tr th:only-of-type {\n",
              "        vertical-align: middle;\n",
              "    }\n",
              "\n",
              "    .dataframe tbody tr th {\n",
              "        vertical-align: top;\n",
              "    }\n",
              "\n",
              "    .dataframe thead th {\n",
              "        text-align: right;\n",
              "    }\n",
              "</style>\n",
              "<table border=\"1\" class=\"dataframe\">\n",
              "  <thead>\n",
              "    <tr style=\"text-align: right;\">\n",
              "      <th></th>\n",
              "      <th>Type</th>\n",
              "      <th>Age</th>\n",
              "      <th>Breed1</th>\n",
              "      <th>Breed2</th>\n",
              "      <th>Gender</th>\n",
              "      <th>Color1</th>\n",
              "      <th>Color2</th>\n",
              "      <th>Color3</th>\n",
              "      <th>MaturitySize</th>\n",
              "      <th>FurLength</th>\n",
              "      <th>Vaccinated</th>\n",
              "      <th>Dewormed</th>\n",
              "      <th>Sterilized</th>\n",
              "      <th>Health</th>\n",
              "      <th>Quantity</th>\n",
              "      <th>Fee</th>\n",
              "      <th>State</th>\n",
              "      <th>Description</th>\n",
              "      <th>PID</th>\n",
              "    </tr>\n",
              "  </thead>\n",
              "  <tbody>\n",
              "    <tr>\n",
              "      <th>0</th>\n",
              "      <td>2</td>\n",
              "      <td>1</td>\n",
              "      <td>265</td>\n",
              "      <td>0</td>\n",
              "      <td>1</td>\n",
              "      <td>1</td>\n",
              "      <td>2</td>\n",
              "      <td>0</td>\n",
              "      <td>2</td>\n",
              "      <td>2</td>\n",
              "      <td>3</td>\n",
              "      <td>3</td>\n",
              "      <td>3</td>\n",
              "      <td>1</td>\n",
              "      <td>1</td>\n",
              "      <td>0</td>\n",
              "      <td>41401</td>\n",
              "      <td>I just found it alone yesterday near my apartm...</td>\n",
              "      <td>1</td>\n",
              "    </tr>\n",
              "    <tr>\n",
              "      <th>1</th>\n",
              "      <td>1</td>\n",
              "      <td>1</td>\n",
              "      <td>307</td>\n",
              "      <td>0</td>\n",
              "      <td>1</td>\n",
              "      <td>2</td>\n",
              "      <td>7</td>\n",
              "      <td>0</td>\n",
              "      <td>2</td>\n",
              "      <td>2</td>\n",
              "      <td>1</td>\n",
              "      <td>1</td>\n",
              "      <td>2</td>\n",
              "      <td>1</td>\n",
              "      <td>1</td>\n",
              "      <td>0</td>\n",
              "      <td>41326</td>\n",
              "      <td>Their pregnant mother was dumped by her irresp...</td>\n",
              "      <td>2</td>\n",
              "    </tr>\n",
              "    <tr>\n",
              "      <th>2</th>\n",
              "      <td>1</td>\n",
              "      <td>0</td>\n",
              "      <td>307</td>\n",
              "      <td>0</td>\n",
              "      <td>2</td>\n",
              "      <td>1</td>\n",
              "      <td>2</td>\n",
              "      <td>7</td>\n",
              "      <td>2</td>\n",
              "      <td>1</td>\n",
              "      <td>2</td>\n",
              "      <td>2</td>\n",
              "      <td>2</td>\n",
              "      <td>1</td>\n",
              "      <td>6</td>\n",
              "      <td>0</td>\n",
              "      <td>41326</td>\n",
              "      <td>Siu Pak just give birth on 13/6/10 to 6puppies...</td>\n",
              "      <td>7</td>\n",
              "    </tr>\n",
              "  </tbody>\n",
              "</table>\n",
              "</div>"
            ],
            "text/plain": [
              "   Type  Age  ...                                        Description  PID\n",
              "0     2    1  ...  I just found it alone yesterday near my apartm...    1\n",
              "1     1    1  ...  Their pregnant mother was dumped by her irresp...    2\n",
              "2     1    0  ...  Siu Pak just give birth on 13/6/10 to 6puppies...    7\n",
              "\n",
              "[3 rows x 19 columns]"
            ]
          },
          "metadata": {
            "tags": []
          },
          "execution_count": 65
        }
      ]
    },
    {
      "cell_type": "code",
      "metadata": {
        "id": "XD_pEBCq2fE0",
        "colab_type": "code",
        "colab": {}
      },
      "source": [
        "def process_features_test(df):\n",
        "    direct_features = []\n",
        "    # Create one hot encodings\n",
        "    for one_hot_col, max_value in one_hot_columns.items():\n",
        "        direct_features.append(tf.keras.utils.to_categorical(df[one_hot_col] - 1, max_value))\n",
        "        # crea los one-hot vector para cada var categórica y concatena un one-hot atras de otro en listas distintas\n",
        "\n",
        "    # Create and append numeric columns. Don't forget to normalize!\n",
        "    scaler.fit(df[numeric_columns])\n",
        "    numeric_col = scaler.transform(df[numeric_columns]) # quedan las dos columnas normalizadas\n",
        "    \n",
        "    # Concatenate all features that don't need further embedding into a single matrix.\n",
        "    features = {'direct_features': numpy.hstack(direct_features), 'numeric_columns': numeric_col}\n",
        "    # np.hstack: Apila las matrices en secuencia horizontalmente (en sentido de columna). concatena los one-hot para cada registro\n",
        "\n",
        "    # Create embedding columns - nothing to do here. We will use the zero embedding for OOV\n",
        "    for embedded_col in embedded_columns.keys():\n",
        "        features[embedded_col] = df[embedded_col].values \n",
        "        # para la entrada a la capa de embedding uso el valor de breed\n",
        "    \n",
        "    return features"
      ],
      "execution_count": 0,
      "outputs": []
    },
    {
      "cell_type": "code",
      "metadata": {
        "id": "vg4U-luO4Tmp",
        "colab_type": "code",
        "outputId": "be23ebd9-1a07-4136-9974-8cb1929a8025",
        "colab": {
          "base_uri": "https://localhost:8080/",
          "height": 153
        }
      },
      "source": [
        "test_data = tf.data.Dataset.from_tensor_slices(process_features_test(test_dataset)).batch(batch_size)\n",
        "\n",
        "pred = model.predict(test_data)\n",
        "pred"
      ],
      "execution_count": 67,
      "outputs": [
        {
          "output_type": "execute_result",
          "data": {
            "text/plain": [
              "array([[0.02892626, 0.3229487 , 0.2790834 , 0.14472434, 0.22431724],\n",
              "       [0.02936787, 0.32217154, 0.36372185, 0.19887048, 0.08586817],\n",
              "       [0.01605583, 0.23956312, 0.37894672, 0.2388171 , 0.12661733],\n",
              "       ...,\n",
              "       [0.07549781, 0.4211816 , 0.25328407, 0.17600499, 0.07403149],\n",
              "       [0.01086385, 0.07148602, 0.12640797, 0.1663283 , 0.62491393],\n",
              "       [0.03760892, 0.36087874, 0.24062654, 0.14199367, 0.21889222]],\n",
              "      dtype=float32)"
            ]
          },
          "metadata": {
            "tags": []
          },
          "execution_count": 67
        }
      ]
    },
    {
      "cell_type": "code",
      "metadata": {
        "id": "i6Mjeuvc4ZhF",
        "colab_type": "code",
        "colab": {}
      },
      "source": [
        "# Se usan las probabilidades obtenidas para cada predicción para obtener la categoría predicha\n",
        "ypred = numpy.argmax(pred, axis=1)"
      ],
      "execution_count": 0,
      "outputs": []
    },
    {
      "cell_type": "code",
      "metadata": {
        "id": "0fE3FN8K4dDY",
        "colab_type": "code",
        "colab": {}
      },
      "source": [
        "# subimos un dataframe con el pid de test y las predicciones de AdoptionSpeed: yy\n",
        "submission = pandas.DataFrame(data= list(zip(test_dataset.PID, ypred)), columns=[\"PID\", \"AdoptionSpeed\"])\n",
        "\n",
        "submission.to_csv(\"./submission.csv\", header=True, index=False)"
      ],
      "execution_count": 0,
      "outputs": []
    },
    {
      "cell_type": "code",
      "metadata": {
        "id": "UR7DDsGCEZSe",
        "colab_type": "code",
        "outputId": "a6d4380b-0009-4ede-a9c0-9764e1625a02",
        "colab": {
          "base_uri": "https://localhost:8080/",
          "height": 34
        }
      },
      "source": [
        "submission.shape"
      ],
      "execution_count": 70,
      "outputs": [
        {
          "output_type": "execute_result",
          "data": {
            "text/plain": [
              "(4411, 2)"
            ]
          },
          "metadata": {
            "tags": []
          },
          "execution_count": 70
        }
      ]
    },
    {
      "cell_type": "markdown",
      "metadata": {
        "id": "2w-17jJw0C23",
        "colab_type": "text"
      },
      "source": [
        "## Ejercicio 2\n",
        "\n",
        "Tomando una de las redes anteriores, vemos como varía la performance de la clasificación a medida que sacamos o agregamos columnas del dataset.\n",
        "\n",
        "Dado que antes agregamos mucha info de los datos a la red, ahora vemos que sucede cuando incluimos menos información."
      ]
    },
    {
      "cell_type": "code",
      "metadata": {
        "id": "fsFNvcU30oGF",
        "colab_type": "code",
        "colab": {}
      },
      "source": [
        "# It's important to always use the same one-hot length\n",
        "one_hot_columns = {\n",
        "    one_hot_col: dataset[one_hot_col].max()   # Comienzan en 1\n",
        "    for one_hot_col in ['Type', 'Gender', 'Color1']\n",
        "}\n",
        "embedded_columns = {\n",
        "    embedded_col: dataset[embedded_col].max() + 1  # Breed comienza en 0\n",
        "    for embedded_col in ['Breed1']\n",
        "}\n",
        "numeric_columns = ['Age']"
      ],
      "execution_count": 0,
      "outputs": []
    },
    {
      "cell_type": "code",
      "metadata": {
        "id": "7QgVmTgd3C7D",
        "colab_type": "code",
        "colab": {
          "base_uri": "https://localhost:8080/",
          "height": 34
        },
        "outputId": "d89fd77a-f64e-48e9-f496-193141693f6a"
      },
      "source": [
        "X_train, y_train = process_features(dataset)\n",
        "\n",
        "direct_features_input_shape = (X_train['direct_features'].shape[1],)\n",
        "numeric_col_input_shape = (X_train['numeric_columns'].shape[1],)\n",
        "direct_features_input_shape, numeric_col_input_shape"
      ],
      "execution_count": 72,
      "outputs": [
        {
          "output_type": "execute_result",
          "data": {
            "text/plain": [
              "((12,), (1,))"
            ]
          },
          "metadata": {
            "tags": []
          },
          "execution_count": 72
        }
      ]
    },
    {
      "cell_type": "code",
      "metadata": {
        "id": "COpzlL4f4qpv",
        "colab_type": "code",
        "colab": {}
      },
      "source": [
        "batch_size = 32\n",
        "# TODO shuffle the train dataset!\n",
        "train_ds = tf.data.Dataset.from_tensor_slices((X_train, y_train)).batch(batch_size)\n",
        "test_ds = tf.data.Dataset.from_tensor_slices(\n",
        "    process_features(dev_dataset)).batch(batch_size)"
      ],
      "execution_count": 0,
      "outputs": []
    },
    {
      "cell_type": "code",
      "metadata": {
        "id": "yACrkcGH6A43",
        "colab_type": "code",
        "colab": {
          "base_uri": "https://localhost:8080/",
          "height": 51
        },
        "outputId": "79d9d02d-e618-4b99-b159-98f84ffc4faa"
      },
      "source": [
        "tf.keras.backend.clear_session()\n",
        "\n",
        "hidden_layer_size = 50   # numero de neuronas en dicha capa\n",
        "\n",
        "# Add one input and one embedding for each embedded column\n",
        "embedding_layers = []\n",
        "inputs = []\n",
        "for embedded_col, max_value in embedded_columns.items():\n",
        "    input_layer = layers.Input(shape=(1,), name=embedded_col)\n",
        "    inputs.append(input_layer)\n",
        "    \n",
        "    # Define the embedding layer\n",
        "    embedding_size = int(max_value / 4)\n",
        "    embedding_layers.append(\n",
        "        tf.squeeze(layers.Embedding(input_dim=max_value, output_dim=embedding_size)(input_layer), axis=-2))\n",
        "    print('Adding embedding of size {} for layer {}'.format(embedding_size, embedded_col))\n",
        "\n",
        "# Add the direct features already calculated\n",
        "direct_features_input = layers.Input(shape=direct_features_input_shape, name='direct_features')\n",
        "inputs.append(direct_features_input)\n",
        "\n",
        "numeric_col_input = layers.Input(shape=numeric_col_input_shape, name='numeric_columns')\n",
        "inputs.append(numeric_col_input)\n",
        "    \n",
        "# Concatenate everything together\n",
        "features = layers.concatenate(embedding_layers + [direct_features_input] + [numeric_col_input])\n",
        "print(features)\n",
        "\n",
        "dense1 = layers.Dense(hidden_layer_size, activation='relu', kernel_initializer='RandomNormal', \n",
        "                      kernel_regularizer=regularizers.l2(0.001))(features)\n",
        "output_layer = layers.Dense(nlabels, activation='softmax')(dense1)\n",
        "\n",
        "model = models.Model(inputs=inputs, outputs=output_layer)\n",
        "\n",
        "model.compile(loss='categorical_crossentropy', optimizer='adam', metrics=['accuracy'])"
      ],
      "execution_count": 74,
      "outputs": [
        {
          "output_type": "stream",
          "text": [
            "Adding embedding of size 77 for layer Breed1\n",
            "Tensor(\"concatenate/Identity:0\", shape=(None, 90), dtype=float32)\n"
          ],
          "name": "stdout"
        }
      ]
    },
    {
      "cell_type": "code",
      "metadata": {
        "id": "ihzqXidQ6Oz6",
        "colab_type": "code",
        "colab": {
          "base_uri": "https://localhost:8080/",
          "height": 391
        },
        "outputId": "af9c67e6-9a47-4a14-a2f4-1b3baf6f052d"
      },
      "source": [
        "mlflow.set_experiment('first_approach')\n",
        "\n",
        "with mlflow.start_run(nested=True):\n",
        "    # Log model hiperparameters first\n",
        "    mlflow.log_param('hidden_layer_size', hidden_layer_size)\n",
        "    mlflow.log_param('embedded_columns', embedded_columns)\n",
        "    mlflow.log_param('one_hot_columns', one_hot_columns)\n",
        "    mlflow.log_param('numerical_columns', numeric_columns) \n",
        "    \n",
        "    # Train\n",
        "    epochs = 10\n",
        "    history = model.fit(train_ds, epochs=epochs)\n",
        "    \n",
        "    # Evaluate\n",
        "    loss, accuracy = model.evaluate(test_ds)\n",
        "    print(\"*** Test loss: {} - accuracy: {}\".format(loss, accuracy))\n",
        "    mlflow.log_metric('epochs', epochs)\n",
        "    mlflow.log_metric('loss', loss)\n",
        "    mlflow.log_metric('accuracy', accuracy)"
      ],
      "execution_count": 75,
      "outputs": [
        {
          "output_type": "stream",
          "text": [
            "Epoch 1/10\n",
            "265/265 [==============================] - 2s 8ms/step - loss: 1.4802 - accuracy: 0.3074\n",
            "Epoch 2/10\n",
            "265/265 [==============================] - 1s 4ms/step - loss: 1.4286 - accuracy: 0.3395\n",
            "Epoch 3/10\n",
            "265/265 [==============================] - 1s 3ms/step - loss: 1.4151 - accuracy: 0.3499\n",
            "Epoch 4/10\n",
            "265/265 [==============================] - 1s 3ms/step - loss: 1.4061 - accuracy: 0.3621\n",
            "Epoch 5/10\n",
            "265/265 [==============================] - 1s 3ms/step - loss: 1.3992 - accuracy: 0.3673\n",
            "Epoch 6/10\n",
            "265/265 [==============================] - 1s 3ms/step - loss: 1.3937 - accuracy: 0.3718\n",
            "Epoch 7/10\n",
            "265/265 [==============================] - 1s 3ms/step - loss: 1.3892 - accuracy: 0.3753\n",
            "Epoch 8/10\n",
            "265/265 [==============================] - 1s 3ms/step - loss: 1.3852 - accuracy: 0.3781\n",
            "Epoch 9/10\n",
            "265/265 [==============================] - 1s 3ms/step - loss: 1.3819 - accuracy: 0.3791\n",
            "Epoch 10/10\n",
            "265/265 [==============================] - 1s 3ms/step - loss: 1.3792 - accuracy: 0.3824\n",
            "67/67 [==============================] - 0s 4ms/step - loss: 1.3901 - accuracy: 0.3760\n",
            "*** Test loss: 1.39006358918859 - accuracy: 0.37600377202033997\n"
          ],
          "name": "stdout"
        }
      ]
    },
    {
      "cell_type": "code",
      "metadata": {
        "id": "OiYMPAqG7eQK",
        "colab_type": "code",
        "colab": {
          "base_uri": "https://localhost:8080/",
          "height": 283
        },
        "outputId": "40797843-5431-4a64-ed36-ac8f8bc2791f"
      },
      "source": [
        "predictions = numpy.argmax(model.predict(test_ds), axis=1) # predicciones en dev\n",
        "seaborn.countplot(predictions)"
      ],
      "execution_count": 76,
      "outputs": [
        {
          "output_type": "execute_result",
          "data": {
            "text/plain": [
              "<matplotlib.axes._subplots.AxesSubplot at 0x7f64917ece10>"
            ]
          },
          "metadata": {
            "tags": []
          },
          "execution_count": 76
        },
        {
          "output_type": "display_data",
          "data": {
            "image/png": "[encoded data removed]",
            "text/plain": [
              "<Figure size 432x288 with 1 Axes>"
            ]
          },
          "metadata": {
            "tags": []
          }
        }
      ]
    },
    {
      "cell_type": "markdown",
      "metadata": {
        "id": "Ez3ReJI46pcP",
        "colab_type": "text"
      },
      "source": [
        "### __Conclusión:__\n",
        "\n",
        "Se observa que al incluir menos datos en la misma red, la accuracy alcanzada en la clasificación es mucho menor tanto para los conjuntos de train como de development.\n",
        "\n",
        "La búsqueda de hiperparámetros con toda la información disponible se realizó en el punto anterior.\n",
        "\n",
        "Otra observación es que al no usar una semilla en train_test_split varían los conjuntos de train y dev en cada corrida. Con ello los valores de accuracy de las redes también varían notablemente, lo que hace pensar que no son configuraciones muy estables las usadas. Aún así han servido como experiencia para el experimento."
      ]
    },
    {
      "cell_type": "code",
      "metadata": {
        "id": "pNb8qkv8H8oG",
        "colab_type": "code",
        "colab": {}
      },
      "source": [
        ""
      ],
      "execution_count": 0,
      "outputs": []
    }
  ]
}